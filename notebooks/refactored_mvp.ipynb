{
 "cells": [
  {
   "cell_type": "markdown",
   "metadata": {},
   "source": [
    "# Step 1. Imports"
   ]
  },
  {
   "cell_type": "code",
   "execution_count": null,
   "metadata": {},
   "outputs": [],
   "source": [
    "from sjaandi import VisualSearchEngineearchEngine"
   ]
  },
  {
   "cell_type": "code",
   "execution_count": null,
   "metadata": {},
   "outputs": [],
   "source": [
    "from src.usecases.mvp import *\n",
    "import matplotlib.pyplot as plt\n",
    "\n",
    "%load_ext autoreload\n",
    "%autoreload 2\n",
    "%matplotlib inline"
   ]
  },
  {
   "cell_type": "code",
   "execution_count": null,
   "metadata": {},
   "outputs": [],
   "source": [
    "DATA_PATH = '../data/raw/imagenette-160'\n",
    "GET_DATA_PATH = '../src/data/get_imagenette.py'"
   ]
  },
  {
   "cell_type": "markdown",
   "metadata": {},
   "source": [
    "# Step 2. Make Data"
   ]
  },
  {
   "cell_type": "code",
   "execution_count": null,
   "metadata": {},
   "outputs": [],
   "source": [
    "data = get_data(DATA_PATH, pct_partial=0.01)"
   ]
  },
  {
   "cell_type": "code",
   "execution_count": null,
   "metadata": {},
   "outputs": [],
   "source": [
    "data.show_batch(rows=4, figsize=(8,8))"
   ]
  },
  {
   "cell_type": "markdown",
   "metadata": {},
   "source": [
    "# Step 3. Load Model and Compute Activations"
   ]
  },
  {
   "cell_type": "markdown",
   "metadata": {},
   "source": [
    "Wishful thinking design approach. Let's make something that works like this:\n",
    "\n",
    "```python\n",
    "data = make_data(DATA_PATH, bs=16, size=160)\n",
    "engine = VisualSearchEngine(data, model=models.resnet18)\n",
    "results = engine.find_closest_images(query_image, n=16)\n",
    "plot_results(results)\n",
    "```\n",
    "\n",
    "- `data` is just a [ImageDataBunch]() object from fastai created by `make_data()` function\n",
    "- `VisualSearchEngine` is a class that stores a model of choice, hooks into last layer, computes activations on data and stores them, and finds closest images in activation space\n",
    "- `plot_results()` plots images in the notebook\n",
    "\n",
    "---\n",
    "\n",
    "After implemented *wishful thinking API*:"
   ]
  },
  {
   "cell_type": "code",
   "execution_count": null,
   "metadata": {},
   "outputs": [],
   "source": [
    "data = get_data(DATA_PATH, pct_partial=1.00)\n",
    "engine = VisualSearchEngine(data)\n",
    "query_img = data.train_ds[0][0]\n",
    "closest = engine.find_closest_images(query_img)\n",
    "plot_results(closest)"
   ]
  },
  {
   "cell_type": "code",
   "execution_count": null,
   "metadata": {},
   "outputs": [],
   "source": []
  }
 ],
 "metadata": {
  "kernelspec": {
   "display_name": "Python [conda env:sjaandi] *",
   "language": "python",
   "name": "conda-env-sjaandi-py"
  }
 },
 "nbformat": 4,
 "nbformat_minor": 2
}
