{
 "cells": [
  {
   "cell_type": "markdown",
   "metadata": {},
   "source": [
    "# Use Case #1\n",
    "\n",
    "## Finding related images without pretraining, on toy data\n",
    "\n",
    "The notebook below builds an MVP for this simple use case.\n",
    "\n",
    "### User Story\n",
    "\n",
    "The user provides an image to the system, and the number of similar images to be found in the Imagenette data set.\n",
    "\n",
    "The system will return the requested number of images."
   ]
  },
  {
   "cell_type": "markdown",
   "metadata": {},
   "source": [
    "## TODO\n",
    "\n",
    "0. Download the data using `!python '../src/data/get_imagenette.py'`, which will be stored at `../data/raw/imagenette-160`\n",
    "1. create databunch (with `shuffle=False` for easy indexing later on)\n",
    "2. create a `fastai` learner, based on pre-trained ResNet-18 (to be able to run on laptop).\n",
    "3. create hook callback, pass model modules to be collected, create partial for learner creation\n",
    "4. register callback with the learner by hand\n",
    "5. use `.get_preds()` to collect activations for dataset\n",
    "6. use `.pred()` on target image to collect activations for the target image\n",
    "7. calculate distances from dataset activations to target image\n",
    "8. get indices of closest activations\n",
    "9. use the indices to retreive the closest images\n",
    "10. plot the images\n",
    "11. PROFIT!!!"
   ]
  },
  {
   "cell_type": "markdown",
   "metadata": {},
   "source": [
    "## Imports"
   ]
  },
  {
   "cell_type": "code",
   "execution_count": null,
   "metadata": {},
   "outputs": [],
   "source": [
    "from fastai.vision import *\n",
    "from fastai.metrics import accuracy\n",
    "from fastai.callbacks.hooks import *\n",
    "\n",
    "DATA_PATH = '../data/raw/imagenette-160'\n",
    "GET_DATA_PATH = '../src/data/get_imagenette.py'\n",
    "\n",
    "%load_ext autoreload\n",
    "%autoreload 2"
   ]
  },
  {
   "cell_type": "code",
   "execution_count": null,
   "metadata": {},
   "outputs": [],
   "source": [
    "# !python '../src/usecases/mvp.py'"
   ]
  },
  {
   "cell_type": "markdown",
   "metadata": {},
   "source": [
    "## Getting the Data"
   ]
  },
  {
   "cell_type": "code",
   "execution_count": null,
   "metadata": {},
   "outputs": [],
   "source": [
    "!ls ../src/data/"
   ]
  },
  {
   "cell_type": "code",
   "execution_count": null,
   "metadata": {},
   "outputs": [],
   "source": [
    "# # $ allows to pass python variable to jupyter magic command\n",
    "# !python $GET_DATA_PATH"
   ]
  },
  {
   "cell_type": "code",
   "execution_count": null,
   "metadata": {},
   "outputs": [],
   "source": [
    "!ls $DATA_PATH"
   ]
  },
  {
   "cell_type": "markdown",
   "metadata": {},
   "source": [
    "## Creating the DataBunch Step by Step"
   ]
  },
  {
   "cell_type": "code",
   "execution_count": null,
   "metadata": {},
   "outputs": [],
   "source": [
    "def make_data(data_path:PathOrStr, bs:int=16, img_size:int=160, \n",
    "              pct_partial:float=1.0, num_workers:int=0)->ImageDataBunch:\n",
    "    return (ImageList.from_folder(data_path)         # -> ImageList\n",
    "            .use_partial_data(pct_partial, seed=42)  # -> ImageList\n",
    "            .split_none()                            # -> ItemLists: train and valid ItemList\n",
    "            .label_from_folder()                     # -> LabelLists: train and valid LabelList\n",
    "            .transform(size=img_size)                # -> LabelLists: train and valid LabelList\n",
    "            .databunch(bs=bs, num_workers=0)         # -> ImageDataBunch\n",
    "            .normalize(imagenet_stats))              # -> ImageDataBunch\n",
    "\n",
    "data = make_data(DATA_PATH)"
   ]
  },
  {
   "cell_type": "code",
   "execution_count": null,
   "metadata": {},
   "outputs": [],
   "source": [
    "bs = 16\n",
    "size = 160\n",
    "\n",
    "data = (ImageList.from_folder(DATA_PATH)  # -> ImageList\n",
    "        .use_partial_data(0.01, seed=42)  # -> ImageList\n",
    "        .split_none()                     # -> ItemLists: train and valid ItemList\n",
    "        .label_from_folder()              # -> LabelLists: train and valid LabelList\n",
    "        .transform(size=size)             # -> LabelLists: train and valid LabelList\n",
    "        .databunch(bs=bs, num_workers=0)  # -> ImageDataBunch\n",
    "        .normalize(imagenet_stats))       # -> ImageDataBunch\n",
    "\n",
    "# note that we need to make sure that data in the dataloader is not shuffled\n",
    "# solution for turning off shuffle in data block API is here:\n",
    "# https://forums.fast.ai/t/how-can-i-turn-off-shuffle-in-the-data-block/33942/2?u=maxim.pechyonkin\n",
    "data.train_dl = data.train_dl.new(shuffle=False)\n",
    "\n",
    "data.show_batch(rows=4, figsize=(8,8))"
   ]
  },
  {
   "cell_type": "code",
   "execution_count": null,
   "metadata": {},
   "outputs": [],
   "source": [
    "print(data.train_ds)\n",
    "print('-'*42)\n",
    "print(data.valid_ds)"
   ]
  },
  {
   "cell_type": "markdown",
   "metadata": {},
   "source": [
    "# Creating the Learner and Collecting Activations\n",
    "Callback hook will be registered with the learner and will allow to access activations of a given layer."
   ]
  },
  {
   "cell_type": "markdown",
   "metadata": {},
   "source": [
    "## Creating the Learner\n",
    "## Registering Callback by Hand"
   ]
  },
  {
   "cell_type": "code",
   "execution_count": null,
   "metadata": {},
   "outputs": [],
   "source": [
    "activations = []\n",
    "        \n",
    "def printer(module, i, o):\n",
    "    activations.append(o)\n",
    "\n",
    "learner = cnn_learner(data, models.resnet18)\n",
    "\n",
    "print(\"training:\", learner.model.training)\n",
    "\n",
    "last_layer = flatten_model(learner.model)[-2]\n",
    "last_layer.register_forward_hook(printer)\n",
    "\n",
    "# learner.fit_one_cycle(1)\n",
    "preds = learner.get_preds(data.train_ds)\n",
    "\n",
    "print(\"training:\", learner.model.training)\n",
    "\n",
    "data_activations = torch.cat(activations)"
   ]
  },
  {
   "cell_type": "code",
   "execution_count": null,
   "metadata": {},
   "outputs": [],
   "source": [
    "query_img = data.train_ds[0][0]\n",
    "query_img"
   ]
  },
  {
   "cell_type": "code",
   "execution_count": null,
   "metadata": {},
   "outputs": [],
   "source": [
    "activations = []\n",
    "learner.predict(query_img)"
   ]
  },
  {
   "cell_type": "code",
   "execution_count": null,
   "metadata": {},
   "outputs": [],
   "source": [
    "query_act = activations[0]"
   ]
  },
  {
   "cell_type": "code",
   "execution_count": null,
   "metadata": {},
   "outputs": [],
   "source": [
    "query_act.shape"
   ]
  },
  {
   "cell_type": "code",
   "execution_count": null,
   "metadata": {},
   "outputs": [],
   "source": [
    "data_activations.shape"
   ]
  },
  {
   "cell_type": "code",
   "execution_count": null,
   "metadata": {},
   "outputs": [],
   "source": [
    "query_act.shape"
   ]
  },
  {
   "cell_type": "code",
   "execution_count": null,
   "metadata": {},
   "outputs": [],
   "source": [
    "# finding distances from query to all \n",
    "closest_idxs = (data_activations - query_act).pow(2).sum(dim=1).argsort()"
   ]
  },
  {
   "cell_type": "code",
   "execution_count": null,
   "metadata": {},
   "outputs": [],
   "source": [
    "sorted_ds = data.train_ds[closest_idxs]"
   ]
  },
  {
   "cell_type": "code",
   "execution_count": null,
   "metadata": {},
   "outputs": [],
   "source": [
    "sorted_ds[0][0]"
   ]
  },
  {
   "cell_type": "code",
   "execution_count": null,
   "metadata": {},
   "outputs": [],
   "source": [
    "query_img"
   ]
  },
  {
   "cell_type": "code",
   "execution_count": null,
   "metadata": {},
   "outputs": [],
   "source": [
    "sorted_ds[1][0]"
   ]
  },
  {
   "cell_type": "code",
   "execution_count": null,
   "metadata": {},
   "outputs": [],
   "source": [
    "sorted_ds[2][0]"
   ]
  },
  {
   "cell_type": "code",
   "execution_count": null,
   "metadata": {},
   "outputs": [],
   "source": [
    "sorted_ds[3][0]"
   ]
  },
  {
   "cell_type": "code",
   "execution_count": null,
   "metadata": {},
   "outputs": [],
   "source": [
    "sorted_ds[4][0]"
   ]
  },
  {
   "cell_type": "code",
   "execution_count": null,
   "metadata": {},
   "outputs": [],
   "source": []
  }
 ],
 "metadata": {
  "kernelspec": {
   "display_name": "Python 3",
   "language": "python",
   "name": "python3"
  }
 },
 "nbformat": 4,
 "nbformat_minor": 2
}
