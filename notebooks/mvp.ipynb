{
 "cells": [
  {
   "cell_type": "markdown",
   "metadata": {},
   "source": [
    "# Use Case #1\n",
    "\n",
    "## Finding related images without pretraining, on toy data\n",
    "\n",
    "The notebook below builds an MVP for this simple use case.\n",
    "\n",
    "### User Story\n",
    "\n",
    "The user provides an image to the system, and the number of similar images to be found in the Imagenette data set.\n",
    "\n",
    "The system will return the requested number of images."
   ]
  },
  {
   "cell_type": "markdown",
   "metadata": {},
   "source": [
    "## TODO\n",
    "\n",
    "0. Download the data using `!python '../src/data/get_imagenette.py'`, which will be stored at `../data/raw/imagenette-160`\n",
    "1. create databunch (with `shuffle=False` for easy indexing later on)\n",
    "2. create a `fastai` learner, based on pre-trained ResNet-18 (to be able to run on laptop).\n",
    "3. create hook callback, pass model modules to be collected, create partial for learner creation\n",
    "4. register callback with the learner by hand\n",
    "5. use `.get_preds()` to collect activations for dataset\n",
    "6. use `.pred()` on target image to collect activations for the target image\n",
    "7. calculate distances from dataset activations to target image\n",
    "8. get indices of closest activations\n",
    "9. use the indices to retreive the closest images\n",
    "10. plot the images\n",
    "11. PROFIT!!!"
   ]
  },
  {
   "cell_type": "markdown",
   "metadata": {},
   "source": [
    "## Imports"
   ]
  },
  {
   "cell_type": "code",
   "execution_count": null,
   "metadata": {},
   "outputs": [],
   "source": [
    "from pathlib import Path\n",
    "from fastai.vision import *\n",
    "from fastai.metrics import accuracy\n",
    "from fastai.callbacks.hooks import *"
   ]
  },
  {
   "cell_type": "code",
   "execution_count": null,
   "metadata": {},
   "outputs": [],
   "source": [
    "DATA_PATH = '../data/raw/imagenette-160'\n",
    "GET_DATA_PATH = '../src/data/get_imagenette.py'"
   ]
  },
  {
   "cell_type": "markdown",
   "metadata": {},
   "source": [
    "## Getting the Data"
   ]
  },
  {
   "cell_type": "code",
   "execution_count": null,
   "metadata": {},
   "outputs": [],
   "source": [
    "!ls ../src/data/"
   ]
  },
  {
   "cell_type": "code",
   "execution_count": null,
   "metadata": {},
   "outputs": [],
   "source": [
    "# # $ allows to pass python variable to jupyter magic command\n",
    "# !python $GET_DATA_PATH"
   ]
  },
  {
   "cell_type": "code",
   "execution_count": null,
   "metadata": {},
   "outputs": [],
   "source": [
    "!ls $DATA_PATH"
   ]
  },
  {
   "cell_type": "markdown",
   "metadata": {},
   "source": [
    "## Creating the Learner"
   ]
  },
  {
   "cell_type": "code",
   "execution_count": null,
   "metadata": {},
   "outputs": [],
   "source": [
    "bs = 16\n",
    "size = 160\n",
    "\n",
    "data = (ImageList.from_folder(DATA_PATH)\n",
    "        .use_partial_data(0.01)\n",
    "        .split_none()\n",
    "        .label_from_folder()\n",
    "        .transform(size=size)\n",
    "        .databunch(bs=bs, num_workers=0)\n",
    "        .normalize(imagenet_stats))\n",
    "\n",
    "data.show_batch(rows=4, figsize=(8,8))"
   ]
  },
  {
   "cell_type": "code",
   "execution_count": null,
   "metadata": {},
   "outputs": [],
   "source": [
    "print(data.train_ds)\n",
    "print('-'*42)\n",
    "print(data.valid_ds)"
   ]
  },
  {
   "cell_type": "markdown",
   "metadata": {},
   "source": [
    "# Creating the Learner and Collecting Activations\n",
    "Callback hook will be registered with the learner and will allow to access activations of a given layer."
   ]
  },
  {
   "cell_type": "markdown",
   "metadata": {},
   "source": [
    "## Registering Callback by Hand"
   ]
  },
  {
   "cell_type": "code",
   "execution_count": null,
   "metadata": {},
   "outputs": [],
   "source": [
    "class TestHook(HookCallback):\n",
    "    def hook(self, m, i, o):\n",
    "        pass\n",
    "    def on_batch_end(self, train, **kwargs):\n",
    "        print(\"Batch Done!\")     \n",
    "        \n",
    "learner = cnn_learner(data, models.resnet18)\n",
    "\n",
    "test_hook_callback = TestHook(learner)\n",
    "learner.callbacks += [test_hook_callback]\n",
    "\n",
    "learner.get_preds(data.train_ds)"
   ]
  },
  {
   "cell_type": "markdown",
   "metadata": {},
   "source": [
    "---"
   ]
  },
  {
   "cell_type": "code",
   "execution_count": null,
   "metadata": {},
   "outputs": [],
   "source": []
  }
 ],
 "metadata": {
  "kernelspec": {
   "display_name": "Python 3",
   "language": "python",
   "name": "python3"
  }
 },
 "nbformat": 4,
 "nbformat_minor": 2
}
