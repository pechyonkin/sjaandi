{
 "cells": [
  {
   "cell_type": "markdown",
   "metadata": {},
   "source": [
    "# Use Case #1\n",
    "\n",
    "## Finding related images without pretraining, on toy data\n",
    "\n",
    "The notebook below builds an MVP for this simple use case.\n",
    "\n",
    "### User Story\n",
    "\n",
    "The user provides an image to the system, and the number of similar images to be found in the Imagenette data set.\n",
    "\n",
    "The system will return the requested number of images.\n",
    "\n",
    "### Internal Steps\n",
    "\n",
    "1. Download the data using `!python '../src/data/get_imagenette.py'`, which will be stored at `../data/raw/imagenette-160`\n",
    "2. Create a DataBucnh object (packages train, validation datasets and dataloaders). No need for validation dataset, all the data can be used as train.\n",
    "3. Create a `fastai` learner, based on pre-trained ResNet-18 (to be able to run on laptop).\n",
    "4. Pass the data through the learner for prediction, collect acitvations from the layer preceding the fully connected layer.\n",
    "5. Pass the query image through the learner, collect activations.\n",
    "6. Find indices of closest to the query image activations from dataset activations.\n",
    "7. Use indices to retreive images and return to the user\n",
    "8. Plot the query image and the returned images **[optional]**\n"
   ]
  },
  {
   "cell_type": "markdown",
   "metadata": {},
   "source": [
    "## Imports"
   ]
  },
  {
   "cell_type": "code",
   "execution_count": null,
   "metadata": {},
   "outputs": [],
   "source": [
    "from pathlib import Path\n",
    "from fastai.vision import *\n",
    "from fastai.metrics import accuracy\n",
    "from fastai.callbacks.hooks import *"
   ]
  },
  {
   "cell_type": "code",
   "execution_count": null,
   "metadata": {},
   "outputs": [],
   "source": [
    "DATA_PATH = '../data/raw/imagenette-160'\n",
    "GET_DATA_PATH = '../src/data/get_imagenette.py'"
   ]
  },
  {
   "cell_type": "markdown",
   "metadata": {},
   "source": [
    "## Getting the Data"
   ]
  },
  {
   "cell_type": "code",
   "execution_count": null,
   "metadata": {},
   "outputs": [],
   "source": [
    "!ls ../src/data/"
   ]
  },
  {
   "cell_type": "code",
   "execution_count": null,
   "metadata": {},
   "outputs": [],
   "source": [
    "# # $ allows to pass python variable to jupyter magic command\n",
    "# !python $GET_DATA_PATH"
   ]
  },
  {
   "cell_type": "code",
   "execution_count": null,
   "metadata": {},
   "outputs": [],
   "source": [
    "!ls $DATA_PATH"
   ]
  },
  {
   "cell_type": "markdown",
   "metadata": {},
   "source": [
    "## Creating the Learner"
   ]
  },
  {
   "cell_type": "code",
   "execution_count": null,
   "metadata": {},
   "outputs": [],
   "source": [
    "bs = 16\n",
    "size = 160\n",
    "\n",
    "data = (ImageList.from_folder(DATA_PATH)\n",
    "        .use_partial_data(0.01)\n",
    "        .split_none()\n",
    "        .label_from_folder()\n",
    "        .transform(size=size)\n",
    "        .databunch(bs=bs, num_workers=0)\n",
    "        .normalize(imagenet_stats))\n",
    "\n",
    "data.show_batch(rows=4, figsize=(8,8))"
   ]
  },
  {
   "cell_type": "code",
   "execution_count": null,
   "metadata": {},
   "outputs": [],
   "source": [
    "print(data.train_ds)\n",
    "print('-'*42)\n",
    "print(data.valid_ds)"
   ]
  },
  {
   "cell_type": "markdown",
   "metadata": {},
   "source": [
    "# Creating the CallbackHook\n",
    "\n",
    "Callback hook will be registered with the learner and will allow to access activations of a given layer."
   ]
  },
  {
   "cell_type": "markdown",
   "metadata": {},
   "source": [
    "# Creating the Learner\n",
    "## Trying to Collect **All** Activations [NO GOOD]"
   ]
  },
  {
   "cell_type": "code",
   "execution_count": null,
   "metadata": {},
   "outputs": [],
   "source": [
    "class StoreHook(HookCallback):\n",
    "    def on_train_begin(self, **kwargs):\n",
    "        print(\"NOICE!\")\n",
    "        super().on_train_begin(**kwargs)\n",
    "        self.acts = []\n",
    "    def on_batch_begin(self, **kwargs):\n",
    "        print(\"beginning batch\")\n",
    "    def hook(self, m, i, o):\n",
    "#         print(\"Hooking!!!\")\n",
    "        return o\n",
    "    def on_batch_end(self, train, **kwargs):\n",
    "        self.acts.append(self.hooks.stored)\n",
    "        print(\"Batch Done!\")\n",
    "        \n",
    "class StoreHook2(Callback):\n",
    "    def __init__(self, module):\n",
    "        print(\"Initting!!!\")\n",
    "        super().__init__()\n",
    "        self.custom_hook = hook_output(module)\n",
    "        self.outputs = []\n",
    "        \n",
    "    def on_batch_end(self, train, **kwargs): \n",
    "        if (not train): self.outputs.append(self.custom_hook.stored)\n",
    "        \n",
    "learner = cnn_learner(data, models.resnet18, callback_fns=partial(StoreHook, do_remove=False))\n",
    "\n",
    "f = learner.fit_one_cycle(1, max_lr=0)\n",
    "# p = learner.get_preds(data.train_ds)"
   ]
  },
  {
   "cell_type": "code",
   "execution_count": null,
   "metadata": {},
   "outputs": [],
   "source": [
    "learner.fit(1)"
   ]
  },
  {
   "cell_type": "code",
   "execution_count": null,
   "metadata": {},
   "outputs": [],
   "source": [
    "learner.fit_one_cycle(1)"
   ]
  },
  {
   "cell_type": "code",
   "execution_count": null,
   "metadata": {},
   "outputs": [],
   "source": [
    "learner.callbacks"
   ]
  },
  {
   "cell_type": "code",
   "execution_count": null,
   "metadata": {},
   "outputs": [],
   "source": [
    "learner.callback_fns"
   ]
  },
  {
   "cell_type": "code",
   "execution_count": null,
   "metadata": {},
   "outputs": [],
   "source": [
    "learner.callbacks = [cb(learner) for cb in learner.callback_fns]"
   ]
  },
  {
   "cell_type": "code",
   "execution_count": null,
   "metadata": {},
   "outputs": [],
   "source": [
    "learner.get_preds(data.train_ds)"
   ]
  },
  {
   "cell_type": "code",
   "execution_count": null,
   "metadata": {},
   "outputs": [],
   "source": [
    "learner.fit_one_cycle??"
   ]
  },
  {
   "cell_type": "code",
   "execution_count": null,
   "metadata": {},
   "outputs": [],
   "source": [
    "class StoreHook(HookCallback):\n",
    "    def hook(self, m, i, o):\n",
    "        pass\n",
    "    def on_batch_end(self, train, **kwargs):\n",
    "        print(\"Batch Done!\")\n",
    "        \n",
    "learner = cnn_learner(data, models.resnet18, callback_fns=StoreHook)\n",
    "\n",
    "learner.fit_one_cycle(1)\n",
    "\n",
    "learner.get_preds"
   ]
  },
  {
   "cell_type": "code",
   "execution_count": null,
   "metadata": {},
   "outputs": [],
   "source": [
    "class StoreHook(HookCallback):\n",
    "    def hook(self, m, i, o):\n",
    "        pass\n",
    "    def on_batch_end(self, train, **kwargs):\n",
    "        print(\"Batch Done!\")     \n",
    "        \n",
    "learner = cnn_learner(data, models.resnet18)\n",
    "\n",
    "store_hook_callback = StoreHook(learner)\n",
    "learner.callbacks += [store_hook_callback]\n",
    "\n",
    "learner.get_preds(data.train_ds)"
   ]
  },
  {
   "cell_type": "code",
   "execution_count": null,
   "metadata": {},
   "outputs": [],
   "source": []
  },
  {
   "cell_type": "code",
   "execution_count": null,
   "metadata": {},
   "outputs": [],
   "source": [
    "learner.get_preds(data.train_ds)"
   ]
  },
  {
   "cell_type": "code",
   "execution_count": null,
   "metadata": {},
   "outputs": [],
   "source": []
  },
  {
   "cell_type": "code",
   "execution_count": null,
   "metadata": {},
   "outputs": [],
   "source": [
    "learner.model.__class__.__name__"
   ]
  },
  {
   "cell_type": "code",
   "execution_count": null,
   "metadata": {},
   "outputs": [],
   "source": [
    "len([m for m in learner.model.modules() if list(m.parameters())])"
   ]
  },
  {
   "cell_type": "code",
   "execution_count": null,
   "metadata": {},
   "outputs": [],
   "source": [
    "len(learner.store_hook.acts[0])"
   ]
  },
  {
   "cell_type": "code",
   "execution_count": null,
   "metadata": {},
   "outputs": [],
   "source": [
    "learner.get_preds(data.train_ds)"
   ]
  },
  {
   "cell_type": "markdown",
   "metadata": {},
   "source": [
    "# Hook Approach"
   ]
  },
  {
   "cell_type": "code",
   "execution_count": null,
   "metadata": {},
   "outputs": [],
   "source": [
    "activations = []\n",
    "\n",
    "def printer(self, i, o):\n",
    "    activations.append(o)\n",
    "\n",
    "# learner = cnn_learner(data, models.resnet18, metrics=[accuracy])\n",
    "learner = cnn_learner(data, models.resnet18)\n",
    "\n",
    "list(learner.model.modules())[-3].register_forward_hook(printer)\n",
    "\n",
    "p = learner.get_preds(data.train_ds)"
   ]
  },
  {
   "cell_type": "code",
   "execution_count": null,
   "metadata": {},
   "outputs": [],
   "source": [
    "len(activations)"
   ]
  },
  {
   "cell_type": "code",
   "execution_count": null,
   "metadata": {},
   "outputs": [],
   "source": [
    "a = torch.cat(activations)"
   ]
  },
  {
   "cell_type": "code",
   "execution_count": null,
   "metadata": {},
   "outputs": [],
   "source": [
    "a.shape"
   ]
  },
  {
   "cell_type": "code",
   "execution_count": null,
   "metadata": {},
   "outputs": [],
   "source": [
    "data.train_ds[0][0]"
   ]
  },
  {
   "cell_type": "code",
   "execution_count": null,
   "metadata": {},
   "outputs": [],
   "source": [
    "preds = learner.get_preds(data.train_ds)"
   ]
  },
  {
   "cell_type": "code",
   "execution_count": null,
   "metadata": {},
   "outputs": [],
   "source": [
    "type(preds)"
   ]
  },
  {
   "cell_type": "code",
   "execution_count": null,
   "metadata": {},
   "outputs": [],
   "source": [
    "len(preds)"
   ]
  },
  {
   "cell_type": "code",
   "execution_count": null,
   "metadata": {},
   "outputs": [],
   "source": [
    "preds[0].shape"
   ]
  },
  {
   "cell_type": "code",
   "execution_count": null,
   "metadata": {},
   "outputs": [],
   "source": [
    "preds[1].shape"
   ]
  },
  {
   "cell_type": "code",
   "execution_count": null,
   "metadata": {},
   "outputs": [],
   "source": [
    "probas = preds[0].numpy()"
   ]
  },
  {
   "cell_type": "code",
   "execution_count": null,
   "metadata": {},
   "outputs": [],
   "source": [
    "probas.shape"
   ]
  },
  {
   "cell_type": "code",
   "execution_count": null,
   "metadata": {},
   "outputs": [],
   "source": [
    "np.argmax(np.max(probas, axis=1))"
   ]
  },
  {
   "cell_type": "code",
   "execution_count": null,
   "metadata": {},
   "outputs": [],
   "source": [
    "data.train_ds[38][0]"
   ]
  },
  {
   "cell_type": "markdown",
   "metadata": {},
   "source": [
    "# Good Approach\n",
    "\n",
    "1. create databunch\n",
    "2. create model by hand\n",
    "3. create hook callback, pass model modules to be collected, create partial for learner creation\n",
    "4. create learner\n",
    "5. train with zero learning rate, collect activations\n",
    "6. ...\n",
    "7. PROFIT!!!"
   ]
  },
  {
   "cell_type": "code",
   "execution_count": null,
   "metadata": {},
   "outputs": [],
   "source": []
  }
 ],
 "metadata": {
  "kernelspec": {
   "display_name": "Python 3",
   "language": "python",
   "name": "python3"
  }
 },
 "nbformat": 4,
 "nbformat_minor": 2
}
